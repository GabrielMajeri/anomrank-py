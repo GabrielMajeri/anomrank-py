{
 "cells": [
  {
   "cell_type": "code",
   "execution_count": 208,
   "metadata": {},
   "outputs": [],
   "source": [
    "import numpy as np\n",
    "import pickle"
   ]
  },
  {
   "cell_type": "markdown",
   "metadata": {},
   "source": [
    "# Test data"
   ]
  },
  {
   "cell_type": "code",
   "execution_count": 1,
   "metadata": {},
   "outputs": [],
   "source": [
    "with open(\"test.txt\", \"r\") as f:\n",
    "    data = f.read()"
   ]
  },
  {
   "cell_type": "code",
   "execution_count": 2,
   "metadata": {},
   "outputs": [],
   "source": [
    "data = data.split('NEW')"
   ]
  },
  {
   "cell_type": "code",
   "execution_count": 3,
   "metadata": {},
   "outputs": [
    {
     "data": {
      "text/plain": [
       "1690"
      ]
     },
     "execution_count": 3,
     "metadata": {},
     "output_type": "execute_result"
    }
   ],
   "source": [
    "len(data)"
   ]
  },
  {
   "cell_type": "code",
   "execution_count": 4,
   "metadata": {},
   "outputs": [],
   "source": [
    "sample = data[1000]"
   ]
  },
  {
   "cell_type": "code",
   "execution_count": 5,
   "metadata": {},
   "outputs": [],
   "source": [
    "sample = sample.split('\\n')\n",
    "    "
   ]
  },
  {
   "cell_type": "code",
   "execution_count": 215,
   "metadata": {},
   "outputs": [],
   "source": [
    "# saving the sample with pickle\n",
    "with open('sample.pickle', 'wb') as handle:\n",
    "    pickle.dump(sample, handle, protocol=pickle.HIGHEST_PROTOCOL)"
   ]
  },
  {
   "cell_type": "code",
   "execution_count": 216,
   "metadata": {},
   "outputs": [],
   "source": [
    "with open('sample.pickle', 'rb') as handle:\n",
    "    b = pickle.load(handle)"
   ]
  },
  {
   "cell_type": "code",
   "execution_count": 209,
   "metadata": {},
   "outputs": [
    {
     "data": {
      "text/plain": [
       "170403"
      ]
     },
     "execution_count": 209,
     "metadata": {},
     "output_type": "execute_result"
    }
   ],
   "source": [
    "len(sample)"
   ]
  },
  {
   "cell_type": "code",
   "execution_count": 104,
   "metadata": {},
   "outputs": [],
   "source": [
    "# forming the three arrays and converting them to np.arrays\n",
    "out = []\n",
    "weight = []\n",
    "total_weight = []\n",
    "n = int(sample[1])\n",
    "i = 1\n",
    "\n",
    "for j in range(0, n):\n",
    "    i += 2\n",
    "    #out\n",
    "    ln = float(sample[i])\n",
    "    #print(ln)\n",
    "    i += 1\n",
    "    if ln > 0:\n",
    "        out.append(sample[i])\n",
    "        i += 1\n",
    "    else:\n",
    "        out.append([])\n",
    "    i += 1  \n",
    "    #weight\n",
    "    ln = float(sample[i])\n",
    "    #print(ln)\n",
    "    i += 1\n",
    "    if ln > 0:\n",
    "        weight.append(sample[i])\n",
    "        i+=1\n",
    "    else:\n",
    "        weight.append([])\n",
    "    i += 1\n",
    "    local_weight = float(sample[i])\n",
    "    #print(local_weight)\n",
    "    total_weight.append(local_weight)\n",
    "\n",
    "for j in range(0, n):\n",
    "    if out[j] != []:\n",
    "        out[j] = out[j].split(' ')\n",
    "    if weight[j] != []:\n",
    "        weight[j] = weight[j].split(' ')\n",
    "        \n",
    "for j in range(0, n):\n",
    "    if out[j] != []:\n",
    "        for k in range(0, len(out[j])):\n",
    "            if out[j][k] is not '':\n",
    "                out[j][k] = float(out[j][k])\n",
    "            else:\n",
    "                del out[j][k]\n",
    "            \n",
    "        for k in range(0, len(weight[j])):\n",
    "            if weight[j][k] is not '':\n",
    "                weight[j][k] = float(weight[j][k])\n",
    "            else:\n",
    "                del weight[j][k]\n",
    "\n",
    "for j in range(0,n):\n",
    "    out[j] = np.array(out[j])\n",
    "    weight[j] = np.array(weight[j])\n",
    "out = np.array(out)\n",
    "weight = np.array(weight)\n",
    "total_weight = np.array(total_weight)"
   ]
  },
  {
   "cell_type": "code",
   "execution_count": 105,
   "metadata": {},
   "outputs": [
    {
     "name": "stdout",
     "output_type": "stream",
     "text": [
      "1063280\n",
      "2\n"
     ]
    }
   ],
   "source": [
    "i+= 2\n",
    "other_data = sample[i].split(' ')\n",
    "m = float(other_data[1])\n",
    "version = other_data[2]\n",
    "print(m)\n",
    "print(version)"
   ]
  },
  {
   "cell_type": "code",
   "execution_count": 108,
   "metadata": {},
   "outputs": [],
   "source": [
    "result = sample[i+2].split(' ')\n",
    "for j in range(n):\n",
    "    result[j] = float(result[j])\n",
    "result = np.array(result)"
   ]
  },
  {
   "cell_type": "code",
   "execution_count": 129,
   "metadata": {},
   "outputs": [],
   "source": [
    "class outEdge:\n",
    "    def __init__(self, out, weight, total_weight):\n",
    "        self.out = out\n",
    "        self.weight = weight\n",
    "        self.total_w = total_weight"
   ]
  },
  {
   "cell_type": "code",
   "execution_count": 156,
   "metadata": {},
   "outputs": [],
   "source": [
    "sample_edges = []\n",
    "\n",
    "for j in range(0, n):\n",
    "    edge = outEdge(out[j], weight[j], total_weight[j])\n",
    "    sample_edges.append(edge)\n",
    "    \n",
    "sample_edges = np.array(sample_edges)"
   ]
  },
  {
   "cell_type": "markdown",
   "metadata": {},
   "source": [
    "# pagerank"
   ]
  },
  {
   "cell_type": "code",
   "execution_count": 205,
   "metadata": {},
   "outputs": [],
   "source": [
    "b = np.zeros(n)"
   ]
  },
  {
   "cell_type": "code",
   "execution_count": 206,
   "metadata": {},
   "outputs": [],
   "source": [
    "EPSILON = 0.001\n",
    "c = 0.5\n",
    "def pagerank(A, b, n, m, version):\n",
    "    if version is 1:\n",
    "        for i in range(0, n):\n",
    "            b[i] = c/n\n",
    "    else:\n",
    "        for i in range(0, n):\n",
    "            b[i] = c*A[i].total_w/m\n",
    "            \n",
    "    \n",
    "            \n",
    "    print(b)"
   ]
  },
  {
   "cell_type": "code",
   "execution_count": 207,
   "metadata": {},
   "outputs": [
    {
     "name": "stdout",
     "output_type": "stream",
     "text": [
      "[0. 0. 0. ... 0. 0. 0.]\n"
     ]
    }
   ],
   "source": [
    "pagerank(sample_edges, b, n, m, version)"
   ]
  },
  {
   "cell_type": "code",
   "execution_count": null,
   "metadata": {},
   "outputs": [],
   "source": []
  }
 ],
 "metadata": {
  "kernelspec": {
   "display_name": "Python 3",
   "language": "python",
   "name": "python3"
  },
  "language_info": {
   "codemirror_mode": {
    "name": "ipython",
    "version": 3
   },
   "file_extension": ".py",
   "mimetype": "text/x-python",
   "name": "python",
   "nbconvert_exporter": "python",
   "pygments_lexer": "ipython3",
   "version": "3.7.4"
  }
 },
 "nbformat": 4,
 "nbformat_minor": 2
}
